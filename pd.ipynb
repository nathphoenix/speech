{
 "cells": [
  {
   "cell_type": "code",
   "execution_count": null,
   "metadata": {},
   "outputs": [],
   "source": [
    "import pandas as pd"
   ]
  },
  {
   "cell_type": "code",
   "execution_count": null,
   "metadata": {},
   "outputs": [],
   "source": [
    "pd = pd.read_csv(\"Bosses.csv\")\n",
    "pd.head()"
   ]
  },
  {
   "cell_type": "code",
   "execution_count": null,
   "metadata": {
    "tags": []
   },
   "outputs": [],
   "source": [
    "# import os, glob\n",
    "# taco = \"/Tested\"\n",
    "# parent_dir = os.getcwd() + taco\n",
    "# files = [pdf_file for pdf_file in glob.glob(os.path.join(parent_dir, '*.wav'))]\n",
    "# print(files)\n",
    "import counter\n",
    "import glob, os\n",
    "taco = \"/Tested/\"\n",
    "parent_dir = os.getcwd() + taco\n",
    "path = [pdf_file for pdf_file in glob.glob(os.path.join(parent_dir, '*'))]\n",
    "path\n",
    "file = count(file)\n",
    "if file <= 1:\n",
    "    print(file)\n",
    "else:\n",
    "    print(\"file empty\")"
   ]
  },
  {
   "cell_type": "code",
   "execution_count": null,
   "metadata": {},
   "outputs": [],
   "source": [
    "import os, shutil\n",
    "folder = \"Tested/\"\n",
    "for filename in os.listdir(folder):\n",
    "    file_path = os.path.join(folder, filename)\n",
    "    try:\n",
    "        if os.path.isfile(file_path) or os.path.islink(file_path):\n",
    "            os.unlink(file_path)\n",
    "        elif os.path.isdir(file_path):\n",
    "            shutil.rmtree(file_path)\n",
    "    except Exception as e:\n",
    "        print('Failed to delete %s. Reason: %s' % (file_path, e))\n"
   ]
  },
  {
   "cell_type": "code",
   "execution_count": 1,
   "metadata": {},
   "outputs": [],
   "source": [
    "listed = [\"car\", \"house\", \" stove\", \"table\"]\n",
    "new = \"added\"\n",
    "listed.append(new)"
   ]
  },
  {
   "cell_type": "code",
   "execution_count": 2,
   "metadata": {
    "tags": []
   },
   "outputs": [
    {
     "output_type": "stream",
     "name": "stdout",
     "text": "['car', 'house', ' stove', 'table', 'added']\n"
    }
   ],
   "source": [
    "print(listed)"
   ]
  },
  {
   "cell_type": "code",
   "execution_count": null,
   "metadata": {},
   "outputs": [],
   "source": []
  }
 ],
 "metadata": {
  "language_info": {
   "codemirror_mode": {
    "name": "ipython",
    "version": 3
   },
   "file_extension": ".py",
   "mimetype": "text/x-python",
   "name": "python",
   "nbconvert_exporter": "python",
   "pygments_lexer": "ipython3",
   "version": 3
  },
  "orig_nbformat": 2,
  "kernelspec": {
   "name": "python_defaultSpec_1595624978528",
   "display_name": "Python 3.7.1 64-bit (conda)"
  }
 },
 "nbformat": 4,
 "nbformat_minor": 2
}